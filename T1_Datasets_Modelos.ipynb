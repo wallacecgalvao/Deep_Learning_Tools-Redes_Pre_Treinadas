{
  "cells": [
    {
      "cell_type": "markdown",
      "metadata": {
        "id": "0sxdL1QNNGTM"
      },
      "source": [
        "# Trabalho #1 - Biblioteca de dados, RNAs pré-treinadas e PipeLine de dados\n",
        "\n",
        "Nesse trabalho você vai criar e treinar uma RNA, usando como base uma rede pré-treinada, para resolver um problema de classificação multiclasse.\n",
        "\n",
        "Para fazer isso você vai criar um pipeline de dados para treinamento, usar os vetores de características da RNA EfficientNet e um conjunto de dados de imagens de satélite para treinar uma nova RNA para classificar tipos de áreas a partir de imagens de satélites.\n"
      ]
    },
    {
      "cell_type": "markdown",
      "metadata": {
        "id": "yappqATulmMA"
      },
      "source": [
        "## Coloque o seu nome aqui:\n",
        "\n",
        "Nome:\n",
        "\n",
        "Nome:\n",
        "\n",
        "Nome:"
      ]
    },
    {
      "cell_type": "markdown",
      "metadata": {
        "id": "TfyjJeLcNGTN"
      },
      "source": [
        "## 1. Importar bibliotecas\n",
        "\n",
        "Primeiramente devemos instalar o tf_keras, que é uma versão compatível do Keras com o TensorFlow 2.17 para permitir usar alguns modelos do TensorFlow Hub.\n",
        "\n",
        "Execute as células abaixo para importar as bilbiotecas necessárias."
      ]
    },
    {
      "cell_type": "code",
      "source": [
        "!pip install tf_keras"
      ],
      "metadata": {
        "id": "AZgFt738ttY7"
      },
      "execution_count": null,
      "outputs": []
    },
    {
      "cell_type": "code",
      "execution_count": null,
      "metadata": {
        "id": "FC_vTa6sNGTO"
      },
      "outputs": [],
      "source": [
        "import tensorflow as tf\n",
        "import tf_keras as keras\n",
        "print(\"Using TensorFlow Version:\", tf.__version__)\n",
        "print(\"Using Keras Version:\", keras.__version__)\n",
        "\n",
        "import tensorflow_datasets as tfds\n",
        "import tensorflow_hub as hub\n",
        "\n",
        "import matplotlib.pyplot as plt\n",
        "import numpy as np"
      ]
    },
    {
      "cell_type": "markdown",
      "metadata": {
        "id": "VERbdOr1lmMG"
      },
      "source": [
        "## 2. Carregar dados do TensorFlow Data Service (TFDS)\n",
        "\n",
        "O conjunto de dados EuroSAT é baseado nas imagens do satélite Sentinel-2 e consiste de 27.000 imagens coloridas de dimensão 64x64x3 com 10 classes.  \n",
        "\n",
        "Dois conjuntos de dados são disponibilizados: (1) eurosat/rgb que contém imagens no formato RGB, que é o que usaremos; e (2) eurosat/all com imagens de 13 canais diferentes.\n",
        "\n",
        "\n",
        "### Exercício #1: Carregar dados\n",
        "\n",
        "A primeira etapa é carregar as imagens. Esse conjunto de dados está disponível no TFDS com o nome `eurosat/rgb`. Os dados estão em um único conjunto de nome \"train\" e, portanto precisam ser divididos em pelo menos dois conjuntos: dados de treinamento e de validação.\n",
        "\n",
        "Na célula abaixo inclua o seu código para carregar esse conjunto de dados. Mais detalhes de como carregar esse dados podem ser vistos em https://www.tensorflow.org/datasets.\n",
        "\n",
        "Ao carregar os dados, use o argumento `split` com porcentagens para separar os dados em dois conjuntos: dados de treinamento (80% dos dados) e de validação (20% dos dados). Para obter maiores detalhes de como usar o  método `tfds.load` pode ser obtido em https://www.tensorflow.org/datasets/splits."
      ]
    },
    {
      "cell_type": "code",
      "execution_count": null,
      "metadata": {
        "id": "V48g9r6eNGTY"
      },
      "outputs": [],
      "source": [
        "# Carrega dados do TFDS\n",
        "# Inclua seu código aqui (2 linhas)\n",
        "train_data, info = tfds.load('eurosat/rgb', shuffle_files=True, as_supervised=True, with_info=True, split=\"train[:80%]\")\n",
        "val_data = tfds.load('eurosat/rgb', as_supervised=True, split=\"train[80%:]\")"
      ]
    },
    {
      "cell_type": "markdown",
      "metadata": {
        "id": "eRj1O_-W06Ni"
      },
      "source": [
        "Execute a célula abaixo para visualizar as informações sobre esse o conjunto de dados `eurosat/rgb`."
      ]
    },
    {
      "cell_type": "code",
      "execution_count": null,
      "metadata": {
        "id": "lgWNIRGsSeAO"
      },
      "outputs": [],
      "source": [
        "info"
      ]
    },
    {
      "cell_type": "markdown",
      "metadata": {
        "id": "xBACDCNETFR5"
      },
      "source": [
        "Verifique o número de exemplos de treinamento e de validação executando a célula abaixo."
      ]
    },
    {
      "cell_type": "code",
      "execution_count": null,
      "metadata": {
        "id": "uQ66BQRvTMPD"
      },
      "outputs": [],
      "source": [
        "print('Número exemplos de treinamento =', len(list(train_data)))\n",
        "print('Número exemplos de treinamento =', len(list(val_data)))"
      ]
    },
    {
      "cell_type": "markdown",
      "metadata": {
        "id": "oylPLmwza7BL"
      },
      "source": [
        "**Saída esperada:**\n",
        "\n",
        "    Número exemplos de treinamento = 21600\n",
        "    Número exemplos de treinamento = 5400"
      ]
    },
    {
      "cell_type": "markdown",
      "metadata": {
        "id": "jrIqghVrx6-d"
      },
      "source": [
        "Execute a célula abaixo para definir a lista com os nomes das classes existentes no conjutno de dados."
      ]
    },
    {
      "cell_type": "code",
      "execution_count": null,
      "metadata": {
        "id": "by3KZfAMt8GL"
      },
      "outputs": [],
      "source": [
        "labels_list = ['AnnualCrop', 'Forest', 'HerbaceousVegetation', 'Highway', 'Industrial',\n",
        "               'Pasture', 'PermanentCrop', 'Residential', 'River', 'SeaLake']\n",
        "print(labels_list)"
      ]
    },
    {
      "cell_type": "markdown",
      "metadata": {
        "id": "nkSvheoOxkWL"
      },
      "source": [
        "### Exercíco #2: Visualização dos dados\n",
        "\n",
        "Na célula abaixo escreva um código para obter 5 exemplos dos dados de treinamento e visualizá-los juntamento com os nomes (`labels_list`) e números das classes.\n",
        "\n",
        "Para fazer isso você vai precisar de um laço `for`, dos comandos `print`, `plt.imshow()`, `plt.show()`, e do método `take()`."
      ]
    },
    {
      "cell_type": "code",
      "execution_count": null,
      "metadata": {
        "id": "5JV0FnBwNGUH"
      },
      "outputs": [],
      "source": [
        "# Itera no conjunto de dados pegando exemplos\n",
        "# Inclua seu código aqui (~5 linhas)\n",
        "for data in train_data.take(3):\n",
        "    image, label = data\n",
        "    print(\"Classe:\", labels_list[label], '-', format(label))\n",
        "    plt.imshow(image)\n",
        "    plt.show()"
      ]
    },
    {
      "cell_type": "markdown",
      "metadata": {
        "id": "ZpaEDysza7BM"
      },
      "source": [
        "**Exemplo de saída esperada (sem as figuras):**\n",
        "\n",
        "    Classe: Forest - 1\n",
        "    Classe: Residential - 7\n",
        "    Classe: River - 8\n",
        "    \n"
      ]
    },
    {
      "cell_type": "markdown",
      "metadata": {
        "id": "FEFFyMNn8Tn7"
      },
      "source": [
        "## 3. Processamento dos dados\n",
        "\n",
        "Após carregar os dados, você tem que processá-los para poderem ser usados pela RNA.\n",
        "\n",
        "O módulo de vetores de características da EfficientNet permite que as imagens tenham em princípio qualquer dimensão, assim, não é necessário redimensionar as imagens. Porém, os valores dos pixels devem estar entre 0 e 1, conforme mencionado nas instruções de uso desse módulo, que podem ser vistas em https://tfhub.dev/tensorflow/efficientnet/b0/feature-vector/1."
      ]
    },
    {
      "cell_type": "markdown",
      "metadata": {
        "id": "nf1BhVkMxkWO"
      },
      "source": [
        "### Exercício #3: Normalização das imagens\n",
        "\n",
        "Na célula abaixo escreva um código para normalizar um lote de imagens e depois crie os lotes de dados de treinamento e de validação.\n",
        "\n",
        "Conforme vimos na aula, ao importar os dados do TF Data Services, os dados são armazenados em objetos e para podermos usar esses dados de forma eficiente temos que usar os métodos fornecidos para esse tipo de objeto.\n",
        "\n",
        "Para normalizar as imagens crie uma função de nome `format_image` e a utilize chamando o método `map()`. Para normalizar os dados você vai precisar primeiramente transformá-los em `float32`, para isso use a função `tf.cast()`. As instruções de uso dessa função podem ser vistas em https://www.tensorflow.org/api_docs/python/tf/cast.\n",
        "\n",
        "Crie um dataset eficiente, para isso utilize processamento em paralelo quando executar a função de pré-processamento dos dados. Use tamném os métodos `cache` e `prefetch`."
      ]
    },
    {
      "cell_type": "code",
      "execution_count": null,
      "metadata": {
        "id": "_xIxkGCXPQ61"
      },
      "outputs": [],
      "source": [
        "# Definição da dimensão das imagens para processamento e do tamanho dos lotes de dados\n",
        "\n",
        "# Use otimização do pipeline\n",
        "AUTOTUNE = tf.data.AUTOTUNE\n",
        "\n",
        "# Inclua seu código aqui (~2 linhas)\n",
        "IMAGE_SIZE = (64, 64)\n",
        "BATCH_SIZE = 32\n",
        "\n",
        "# Função usada para redimensionar e normalizar as imagens\n",
        "# Inclua seu código aqui (~3 linhas)\n",
        "def format_image(image, label):\n",
        "    image = tf.cast(image, dtype=tf.float32) / 255.0\n",
        "    return  image, label\n",
        "\n",
        "# Cria lotes de dados usando o método map() para chamar a função format_image()\n",
        "# Inclua seu código aqui (~2 linhas)\n",
        "train_batches = train_data.map(format_image, num_parallel_calls=AUTOTUNE).cache().batch(BATCH_SIZE).prefetch(buffer_size=AUTOTUNE)\n",
        "val_batches = val_data.map(format_image, num_parallel_calls=AUTOTUNE).cache().batch(BATCH_SIZE).prefetch(buffer_size=AUTOTUNE)\n",
        "\n",
        "train_batches"
      ]
    },
    {
      "cell_type": "markdown",
      "metadata": {
        "id": "4FS02EMZa7BM"
      },
      "source": [
        "**Saída espeada:**\n",
        "\n",
        "    <_PrefetchDataset element_spec=(TensorSpec(shape=(None, 64, 64, 3), dtype=tf.float32, name=None), TensorSpec(shape=(None,), dtype=tf.int64, name=None))>  "
      ]
    },
    {
      "cell_type": "markdown",
      "source": [
        "Execute a célula abixo para verificar se o seu dataset está correto."
      ],
      "metadata": {
        "id": "VC-27akiuJjW"
      }
    },
    {
      "cell_type": "code",
      "source": [
        "for img, label in train_batches.take(1):\n",
        "    print('Dimensão de um lote de imagens:', img.shape)\n",
        "    print('Dimensão de um lote de saídas desejadas:', label.shape)"
      ],
      "metadata": {
        "id": "n40IiVVRtqi1"
      },
      "execution_count": null,
      "outputs": []
    },
    {
      "cell_type": "markdown",
      "source": [
        "**Saída esperada:**\n",
        "\n",
        "    Dimensão de um lote de imagens: (32, 64, 64, 3)\n",
        "    Dimensão de um lote de saídas desejadas: (32,)"
      ],
      "metadata": {
        "id": "9CvLo9Jd-Si-"
      }
    },
    {
      "cell_type": "markdown",
      "metadata": {
        "id": "nF9Ja2kYFtIj"
      },
      "source": [
        "## 4.  Criação da RNA\n",
        "\n",
        "Nesse trabalho você vai criar e treinar uma RNA para identificar tipos de áreas a partir de imagens do satélite Sentinel-2.\n",
        "\n",
        "Para isso você vai criar uma RNA usando como base o módulo de vetor de características da rede EfficientNet, que foi treinada com as imagens da ImageNet.\n",
        "\n",
        "As redes EfficientNets são utilizadas para classificar imagens e apresentam um desempenho similar a outras redes mais conhecidas, porém, possui um número muito menor de parâmetros e é muito mais rápida. O trabalho que originou essa RNA é\n",
        "Mingxing Tan and Quoc V. Le: EfficientNet: Rethinking Model Scaling for Convolutional Neural Networks, ICML 2019."
      ]
    },
    {
      "cell_type": "markdown",
      "metadata": {
        "id": "TxsRcq8exkWR"
      },
      "source": [
        "### Exercício #4: Carregar vetor de características do TF-Hub\n",
        "\n",
        "Na célula abaixo crie um código que importa o módulo de vetores de características da EfficientNet e o coloca no objeto `feature_extractor`. Essa rede estão no TF-Hub e as informações de como usá-la podem ser obtidas no link https://tfhub.dev/tensorflow/efficientnet/b0/feature-vector/1.\n",
        "\n",
        "Pra fazer isso você vai precisar definir a dimensão do tensor de entrada da rede usando o argumento `input_shape` e a função `hub.KerasLayer()`."
      ]
    },
    {
      "cell_type": "code",
      "execution_count": null,
      "metadata": {
        "id": "X3CEa1hFxkWR"
      },
      "outputs": [],
      "source": [
        "# Dimensão das imagens para argumento input_shape\n",
        "# Inclua seu código aqui (~1 linha)\n",
        "IMAGE_DIM = (64, 64, 3)\n",
        "\n",
        "# Carrega vetores de características com a URL do módulo\n",
        "# Inclua seu código aqui (~2 linhas)\n",
        "MODULE_HANDLE =\"https://tfhub.dev/google/efficientnet/b0/feature-vector/1\"\n",
        "feature_extractor = hub.KerasLayer(MODULE_HANDLE, input_shape=IMAGE_DIM)\n",
        "feature_extractor"
      ]
    },
    {
      "cell_type": "markdown",
      "metadata": {
        "id": "s7YWph3Ja7BN"
      },
      "source": [
        "**Saída espeada:**\n",
        "\n",
        "    <tensorflow_hub.keras_layer.KerasLayer at 0x7ff58df7ae48>"
      ]
    },
    {
      "cell_type": "code",
      "source": [
        "for img, label in train_batches.take(2):\n",
        "    feat = feature_extractor(img)\n",
        "    print(feat.shape)"
      ],
      "metadata": {
        "id": "wNbQM1gcyjdL"
      },
      "execution_count": null,
      "outputs": []
    },
    {
      "cell_type": "markdown",
      "source": [
        "**Saída esperada:**\n",
        "\n",
        "    (32, 1280)\n",
        "    (32, 1280)"
      ],
      "metadata": {
        "id": "B-PzHH8bCRSJ"
      }
    },
    {
      "cell_type": "markdown",
      "metadata": {
        "id": "5XOkuR2eFtIl"
      },
      "source": [
        "### Exercício #5: Criação da RNA como o Keras\n",
        "\n",
        "Na célula abaixo crie um código que incorpora o `feature_extractor`, criado no exercício #4, em uma rede sequencial do Keras para realizar a tarefa de classificação multiclasse com 10 classes.\n",
        "\n",
        "Após criar a RNA utilize o método `summary()` para apresentá-la."
      ]
    },
    {
      "cell_type": "code",
      "execution_count": null,
      "metadata": {
        "id": "htICjW7lFtIm"
      },
      "outputs": [],
      "source": [
        "# Número de classes da RNA\n",
        "# Inclua seu código aqui (~1 linha)\n",
        "NUM_CLASSES = 10\n",
        "\n",
        "# Cria modelo seguencial do Keras para problema de classificação com 10 classes\n",
        "# Inclua seu código aqui (~3 linhas)\n",
        "rna = keras.Sequential([\n",
        "       keras.layers.InputLayer(input_shape=IMAGE_DIM),\n",
        "       feature_extractor,\n",
        "       keras.layers.Dense(NUM_CLASSES, activation='softmax')\n",
        "])\n",
        "\n",
        "# Apresenta configuração da RNA\n",
        "# Inclua seu código aqui (~1 linha)\n",
        "rna.summary()"
      ]
    },
    {
      "cell_type": "markdown",
      "metadata": {
        "id": "BoWpr8Isa7BN"
      },
      "source": [
        "**Saída esperada:**\n",
        "\n",
        "    Model: \"sequential\"\n",
        "    _________________________________________________________________\n",
        "    Layer (type)                 Output Shape              Param #   \n",
        "    =================================================================\n",
        "    keras_layer (KerasLayer)     (None, 1280)              4049564   \n",
        "    _________________________________________________________________\n",
        "    dense (Dense)                (None, 10)                12810     \n",
        "    =================================================================\n",
        "    Total params: 4,062,374\n",
        "    Trainable params: 12,810\n",
        "    Non-trainable params: 4,049,564\n",
        "    _________________________________________________________________"
      ]
    },
    {
      "cell_type": "markdown",
      "metadata": {
        "id": "9gazRM-q8ToB"
      },
      "source": [
        "## 5. Compilação e treinamento da RNA\n",
        "\n",
        "Como visto em aula, o treinamento da RNA deve ser realizado de forma que somente os parâmetros da camada densa, adicionada ao extrator de características, sejam alterados durante o treinamento. Isso é necessário para não destrui a parte da RNA que corresponde à EfficientNet, que já foi previamente treinada com um conjunto de centenas de milhares de imagens. Assim, você tem que \"congelar\" os parâmetros do extrator e características."
      ]
    },
    {
      "cell_type": "markdown",
      "metadata": {
        "id": "jiqB1SV2xkWY"
      },
      "source": [
        "### Exercício #6: Compilação da RNA\n",
        "\n",
        "Na célula abaixo crie um código que congela os parâmetros do `feature_extractor` e compila a RNA usando os seguintes parâmetros:\n",
        "\n",
        "- Método de otimização: Adam;\n",
        "- Fução de custo: `sparse_categorical_crossentropy`;\n",
        "- Métrica: `accuracy`."
      ]
    },
    {
      "cell_type": "code",
      "execution_count": null,
      "metadata": {
        "id": "JTusJhiV8ToB"
      },
      "outputs": [],
      "source": [
        "# Congela parâmetros da MobiliNet\n",
        "# Inclua seu código aqui (~1 linha)\n",
        "feature_extractor.trainable = False\n",
        "\n",
        "# Define método de otimização\n",
        "# Inclua seu código aqui (~1 linha)\n",
        "optimizer = 'adam'\n",
        "\n",
        "# Compila RNA\n",
        "# Inclua seu código aqui (~1 comando)\n",
        "rna.compile(optimizer=optimizer,\n",
        "             loss='sparse_categorical_crossentropy',\n",
        "             metrics=['accuracy'])"
      ]
    },
    {
      "cell_type": "markdown",
      "metadata": {
        "id": "Hepki4908ToE"
      },
      "source": [
        "### Exercício #7: Treinamento da RNA\n",
        "\n",
        "O treinamento da RNA deve ser realizado com o método `fit` e os dados de treinamento e validação são fornecidos por meio dos objetos `train_batches` e `val_batches`.\n",
        "\n",
        "Na célula abaixo crie um código que realiza o treinameto da RNA usando 30 épocas de treinamento."
      ]
    },
    {
      "cell_type": "code",
      "execution_count": null,
      "metadata": {
        "id": "DhPtITzqOKoH"
      },
      "outputs": [],
      "source": [
        "# Define número de épocas de treinamento\n",
        "# Inclua seu código aqui (~1 linha)\n",
        "EPOCHS = 30\n",
        "\n",
        "# Realiza o treinamento usando os dados de treinamento e validação\n",
        "# Inclua seu código aqui (~1 comando)\n",
        "history = rna.fit(train_batches,\n",
        "                    epochs=EPOCHS,\n",
        "                    validation_data=val_batches)"
      ]
    },
    {
      "cell_type": "markdown",
      "metadata": {
        "id": "i5AIX6jka7BN"
      },
      "source": [
        "**Saída esperada:**\n",
        "\n",
        "    Epoch 1/10\n",
        "    675/675 [==============================] - 13s 19ms/step - loss: 0.5030 - accuracy: 0.8542 - val_loss: 0.3120 - val_accuracy: 0.9002\n",
        "    .\n",
        "    .\n",
        "    .\n",
        "    Epoch 30/30\n",
        "    675/675 [==============================] - 8s 11ms/step - loss: 0.0695 - accuracy: 0.9830 - val_loss: 0.2688 - val_accuracy: 0.9181"
      ]
    },
    {
      "cell_type": "markdown",
      "metadata": {
        "id": "vpYapMtIxkWe"
      },
      "source": [
        "### Exercício #8: Resultados do treinamento\n",
        "\n",
        "Na célula abaixo crie um código que apresenta os resultados do treinamento em função das épocas. Você deve fazer dois gráficos:\n",
        "\n",
        "1. Valores da função de custo para os dados de treinamento e de validação;\n",
        "2. Valores da métrica para os dados de treinamento e de validação."
      ]
    },
    {
      "cell_type": "code",
      "execution_count": null,
      "metadata": {
        "id": "Asbp6Xr_xkWe"
      },
      "outputs": [],
      "source": [
        "# Definir vetores com valores da função de custo e da métrica para os dados de treinamento e de validação\n",
        "# Inclua seu código aqui (~5 linhas)\n",
        "history_dict = history.history\n",
        "custo = history_dict['loss']\n",
        "exatidao = history_dict['accuracy']\n",
        "custo_val = history_dict['val_loss']\n",
        "exatidao_val = history_dict['val_accuracy']\n",
        "\n",
        "# Criar vetor de épocas\n",
        "# Inclua seu código aqui (~1 linha)\n",
        "epocas = range(1, len(custo) + 1)\n",
        "\n",
        "# Fazer o gráfico dos valores da função de custo\n",
        "# Inclua seu código aqui (~6 linhas)\n",
        "plt.plot(epocas, custo, 'b')\n",
        "plt.plot(epocas, custo_val, 'r')\n",
        "plt.title('Valor da função de custo')\n",
        "plt.xlabel('Épocas')\n",
        "plt.ylabel('Custo')\n",
        "plt.grid()\n",
        "plt.show()\n",
        "\n",
        "\n",
        "# Fazer o gráfico dos valores da métrica\n",
        "# Inclua seu código aqui (~6 linhas)\n",
        "plt.plot(epocas, exatidao, 'b')\n",
        "plt.plot(epocas, exatidao_val, 'r')\n",
        "plt.title('Valor da exatidão')\n",
        "plt.xlabel('Épocas')\n",
        "plt.ylabel('Erro médio')\n",
        "plt.grid()\n",
        "plt.show()\n"
      ]
    },
    {
      "cell_type": "markdown",
      "metadata": {
        "id": "B8kOc2kq8ToI"
      },
      "source": [
        "## 6.4 Teste da RNA\n",
        "\n",
        "Após o treinamento é necessário verificar o desempenho da RNA. paar isso vamos calcular os valores da função de custo e da métrica para as imagens do conjunto de validação e depois vamos usar o método `predict` para prever as classes de algumas imagens.\n",
        "\n",
        "O código da célula abaixo calcula o resultado da função de custo e da exatidão para os exemplos validação usando o método `evaluate`."
      ]
    },
    {
      "cell_type": "markdown",
      "metadata": {
        "id": "l6zgWaEOxkWh"
      },
      "source": [
        "### Exercício #9: Avaliação do desempenho da RNA\n",
        "\n",
        "Na célula abaixo determine o desemepnho da RNA usando o método `evaluate` para calcular o valor da função d ecusto e da métrica para os dados de validação."
      ]
    },
    {
      "cell_type": "code",
      "execution_count": null,
      "metadata": {
        "id": "yoodW_pcVH9p"
      },
      "outputs": [],
      "source": [
        "# Avalia desempenho da RNA para os dados de validação\n",
        "# Inclua seu código aqui (~1 linha)\n",
        "eval_results = rna.evaluate(val_batches, verbose=0)\n",
        "\n",
        "# Apresenta os resultados\n",
        "# Inclua seu código aqui (~2 linhas)\n",
        "for metric, value in zip(rna.metrics_names, eval_results):\n",
        "    print(metric + ': {:.4}'.format(value))"
      ]
    },
    {
      "cell_type": "markdown",
      "metadata": {
        "id": "-RbgwPWua7BO"
      },
      "source": [
        "**Saída esperada:**\n",
        "\n",
        "    loss: 0.2684\n",
        "    accuracy: 0.9181"
      ]
    },
    {
      "cell_type": "markdown",
      "metadata": {
        "id": "awsX_uxi8ToL"
      },
      "source": [
        "### Exercício #10: Teste de classificação de imagens\n",
        "\n",
        "Para poder fornecer as imagens para a RNA usando o método `predict` você precisa extrai-las do objeto `val_data` e processá-las com a função `format_image`, que por sua vez é chamada pelo método `map()`. Além disso, você tem que incluir o eixo dos exemplos na imagem de acordo com o esperado por uma RNA do Keras.\n",
        "\n",
        "Na célula baixo crie um código que calcula as classes previstas para os 5 primeiros exemplos do conjunto de validação usando o método `predict` e apresenta os resultados junto com as imagens e as classes previstas e reais."
      ]
    },
    {
      "cell_type": "code",
      "execution_count": null,
      "metadata": {
        "id": "4Fc-NSx-Vy4a"
      },
      "outputs": [],
      "source": [
        "# Itera no objeto val_data para pegar 5 imagens e aplica função format_image\n",
        "# Inclua seu código aqui (~1 linha)\n",
        "for data in val_data.map(format_image).take(5):\n",
        "\n",
        "    # Extrai imagem e classe prevista\n",
        "    # Inclua seu código aqui (~1 linha)\n",
        "    image, label = data\n",
        "\n",
        "    # Adiciona eixo dos exemplos\n",
        "    # Inclua seu código aqui (~1 linha)\n",
        "    image = np.expand_dims(image, axis=0)\n",
        "\n",
        "    # Calcula probabilidades previstas pela RNA\n",
        "    # Inclua seu código aqui (~1 linha)\n",
        "    yprev = rna.predict(image)\n",
        "\n",
        "    # Determina classe prevista\n",
        "    # Inclua seu código aqui (~1 linha)\n",
        "    label_prev = np.argmax(yprev)\n",
        "\n",
        "    # Apresenta resultados das classes e mostra imagem\n",
        "    # Inclua seu código aqui (~4 linhas)\n",
        "    print('Classe prevista =', labels_list[label_prev], ', Classe real =', labels_list[label])\n",
        "    plt.imshow(image[0])\n",
        "    plt.show()"
      ]
    },
    {
      "cell_type": "markdown",
      "metadata": {
        "id": "XudZoYXpa7BR"
      },
      "source": [
        "**Saída esperada (sem incluir as imagens):**\n",
        "\n",
        "    Classe prevista = Industrial , Classe real = Industrial\n",
        "    Classe prevista = AnnualCrop , Classe real = AnnualCrop\n",
        "    Classe prevista = HerbaceousVegetation , Classe real = HerbaceousVegetation\n",
        "    Classe prevista = River , Classe real = River\n",
        "    Classe prevista = Residential , Classe real = Residential"
      ]
    }
  ],
  "metadata": {
    "accelerator": "GPU",
    "colab": {
      "provenance": [],
      "machine_shape": "hm",
      "gpuType": "T4"
    },
    "kernelspec": {
      "display_name": "Python 3",
      "name": "python3"
    },
    "language_info": {
      "codemirror_mode": {
        "name": "ipython",
        "version": 3
      },
      "file_extension": ".py",
      "mimetype": "text/x-python",
      "name": "python",
      "nbconvert_exporter": "python",
      "pygments_lexer": "ipython3",
      "version": "3.8.8"
    }
  },
  "nbformat": 4,
  "nbformat_minor": 0
}